{
 "cells": [
  {
   "cell_type": "markdown",
   "id": "d4e56d4c",
   "metadata": {},
   "source": [
    "# I. Do specific sub-types of data-related jobs have higher or lower salaries than others?"
   ]
  },
  {
   "cell_type": "code",
   "execution_count": null,
   "id": "c1431645",
   "metadata": {},
   "outputs": [],
   "source": [
    "Which companies have the highest salaries for those sub-types?"
   ]
  },
  {
   "cell_type": "code",
   "execution_count": null,
   "id": "bf4c5848",
   "metadata": {},
   "outputs": [],
   "source": [
    "SELECT employer_name, job_title_subgroup, MAX(paid_wage_per_year) AS max_paid_wage_per_year\n",
    "FROM salary_data_states_corrected\n",
    "WHERE job_title_subgroup IN ('business analyst','data analyst', 'data scientist')\n",
    "GROUP BY job_title_subgroup\n",
    "ORDER BY max_paid_wage_per_year DESC"
   ]
  }
 ],
 "metadata": {
  "kernelspec": {
   "display_name": "Python 3 (ipykernel)",
   "language": "python",
   "name": "python3"
  },
  "language_info": {
   "codemirror_mode": {
    "name": "ipython",
    "version": 3
   },
   "file_extension": ".py",
   "mimetype": "text/x-python",
   "name": "python",
   "nbconvert_exporter": "python",
   "pygments_lexer": "ipython3",
   "version": "3.9.7"
  }
 },
 "nbformat": 4,
 "nbformat_minor": 5
}
